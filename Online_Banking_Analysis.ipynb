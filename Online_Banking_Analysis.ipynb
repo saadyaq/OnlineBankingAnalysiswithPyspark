{
 "cells": [
  {
   "cell_type": "code",
   "execution_count": 1,
   "metadata": {},
   "outputs": [],
   "source": [
    "import findspark\n",
    "from pyspark.sql import SparkSession\n",
    "from pyspark.sql.functions import *"
   ]
  },
  {
   "cell_type": "code",
   "execution_count": 2,
   "metadata": {},
   "outputs": [
    {
     "name": "stderr",
     "output_type": "stream",
     "text": [
      "your 131072x1 screen size is bogus. expect trouble\n",
      "24/12/16 13:49:31 WARN Utils: Your hostname, SAADSLAP resolves to a loopback address: 127.0.1.1; using 10.255.255.254 instead (on interface lo)\n",
      "24/12/16 13:49:31 WARN Utils: Set SPARK_LOCAL_IP if you need to bind to another address\n",
      "Setting default log level to \"WARN\".\n",
      "To adjust logging level use sc.setLogLevel(newLevel). For SparkR, use setLogLevel(newLevel).\n",
      "24/12/16 13:49:32 WARN NativeCodeLoader: Unable to load native-hadoop library for your platform... using builtin-java classes where applicable\n"
     ]
    }
   ],
   "source": [
    "findspark.init()\n",
    "spark=SparkSession.builder.appName(\"SparkSQL\").getOrCreate()    "
   ]
  },
  {
   "cell_type": "markdown",
   "metadata": {},
   "source": [
    "**LOAN DATASET**"
   ]
  },
  {
   "cell_type": "code",
   "execution_count": 7,
   "metadata": {},
   "outputs": [
    {
     "name": "stdout",
     "output_type": "stream",
     "text": [
      "+-----------+---+------+-------------------+--------------+-----------+------+-----------+-------------+------------------+-----------+-------+------------+----------------+------------------+\n",
      "|Customer_ID|Age|Gender|         Occupation|Marital Status|Family Size|Income|Expenditure|Use Frequency|     Loan Category|Loan Amount|Overdue| Debt Record| Returned Cheque| Dishonour of Bill|\n",
      "+-----------+---+------+-------------------+--------------+-----------+------+-----------+-------------+------------------+-----------+-------+------------+----------------+------------------+\n",
      "|    IB14001| 30|  MALE|       BANK MANAGER|        SINGLE|          4| 50000|      22199|            6|           HOUSING| 10,00,000 |      5|      42,898|               6|                 9|\n",
      "|    IB14008| 44|  MALE|          PROFESSOR|       MARRIED|          6| 51000|      19999|            4|          SHOPPING|     50,000|      3|      33,999|               1|                 5|\n",
      "|    IB14012| 30|FEMALE|            DENTIST|        SINGLE|          3| 58450|      27675|            5|        TRAVELLING|     75,000|      6|      20,876|               3|                 1|\n",
      "|    IB14018| 29|  MALE|            TEACHER|       MARRIED|          5| 45767|      12787|            3|         GOLD LOAN|  6,00,000 |      7|      11,000|               0|                 4|\n",
      "|    IB14022| 34|  MALE|             POLICE|        SINGLE|          4| 43521|      11999|            3|        AUTOMOBILE|  2,00,000 |      2|      43,898|               1|                 2|\n",
      "|    IB14024| 55|FEMALE|              NURSE|       MARRIED|          6| 34999|      19888|            4|        AUTOMOBILE|     47,787|      1|      50,000|               0|                 3|\n",
      "|    IB14025| 39|FEMALE|            TEACHER|       MARRIED|          6| 46619|      18675|            4|           HOUSING| 12,09,867 |      8|      29,999|               6|                 8|\n",
      "|    IB14027| 51|  MALE|     SYSTEM MANAGER|       MARRIED|          3| 49999|      19111|            5|       RESTAURANTS|     60,676|      8|      13,000|               2|                 5|\n",
      "|    IB14029| 24|FEMALE|            TEACHER|        SINGLE|          3| 45008|      17454|            4|        AUTOMOBILE|  3,99,435 |      9|      51,987|               4|                 7|\n",
      "|    IB14031| 37|FEMALE|  SOFTWARE ENGINEER|       MARRIED|          5| 55999|      23999|            5|        AUTOMOBILE|     60,999|      2|           0|               5|                 3|\n",
      "|    IB14032| 24|  MALE|       DATA ANALYST|        SINGLE|          4| 60111|      28999|            6|        AUTOMOBILE|     35,232|      5|      33,333|               1|                 2|\n",
      "|    IB14034| 32|  MALE|   PRODUCT ENGINEER|       MARRIED|          6|  NULL|      29000|            7|COMPUTER SOFTWARES|     80,660|      6|       4,500|               5|                 4|\n",
      "|    IB14037| 54|FEMALE|            TEACHER|       MARRIED|          5| 48099|      19999|            4|       RESTAURANTS|     30,999|      1|      12,000|               7|                 5|\n",
      "|    IB14039| 45|  MALE|    ACCOUNT MANAGER|       MARRIED|          7| 45777|      18452|            4|         GOLD LOAN|  9,87,611 |      7|      39,999|               8|                 1|\n",
      "|    IB14041| 59|FEMALE|ASSISTANT PROFESSOR|       MARRIED|          4| 50999|      22999|            5|  EDUCATIONAL LOAN|  5,99,934 |      3|       9,000|               9|                 9|\n",
      "|    IB14042| 25|FEMALE|             DOCTOR|        SINGLE|          4| 60111|      27111|            5|        TRAVELLING| 12,90,929 |      4|      18,000|               1|                 0|\n",
      "|    IB14045| 31|  MALE|       STORE KEEPER|        SINGLE|          5| 40999|      11999|            3|       BOOK STORES|  1,67,654 |      1|       4,500|               0|                 1|\n",
      "|    IB14049| 49|  MALE|       BANK MANAGER|       MARRIED|          4| 45999|      14500|            4|        TRAVELLING|     79,999|      4|       6,700|               7|                 3|\n",
      "|    IB14050| 56|  MALE|     CIVIL ENGINEER|       MARRIED|          4|  NULL|      13999|            3|           HOUSING| 10,65,577 |      6|      19,999|               4|                 2|\n",
      "|    IB14054| 58|FEMALE|             DOCTOR|       MARRIED|          5| 60000|      25000|            5|           HOUSING|  9,00,000 |      5|      21,000|               9|                 0|\n",
      "+-----------+---+------+-------------------+--------------+-----------+------+-----------+-------------+------------------+-----------+-------+------------+----------------+------------------+\n",
      "only showing top 20 rows\n",
      "\n"
     ]
    }
   ],
   "source": [
    "loan_df=spark.read.csv(\"files/loan.csv\",inferSchema=True,header=True)\n",
    "loan_df.show()"
   ]
  },
  {
   "cell_type": "code",
   "execution_count": 8,
   "metadata": {},
   "outputs": [
    {
     "name": "stdout",
     "output_type": "stream",
     "text": [
      "root\n",
      " |-- Customer_ID: string (nullable = true)\n",
      " |-- Age: integer (nullable = true)\n",
      " |-- Gender: string (nullable = true)\n",
      " |-- Occupation: string (nullable = true)\n",
      " |-- Marital Status: string (nullable = true)\n",
      " |-- Family Size: integer (nullable = true)\n",
      " |-- Income: integer (nullable = true)\n",
      " |-- Expenditure: integer (nullable = true)\n",
      " |-- Use Frequency: integer (nullable = true)\n",
      " |-- Loan Category: string (nullable = true)\n",
      " |-- Loan Amount: string (nullable = true)\n",
      " |-- Overdue: integer (nullable = true)\n",
      " |--  Debt Record: string (nullable = true)\n",
      " |--  Returned Cheque: integer (nullable = true)\n",
      " |--  Dishonour of Bill: integer (nullable = true)\n",
      "\n"
     ]
    }
   ],
   "source": [
    "loan_df.printSchema()"
   ]
  },
  {
   "cell_type": "code",
   "execution_count": 9,
   "metadata": {},
   "outputs": [
    {
     "data": {
      "text/plain": [
       "15"
      ]
     },
     "execution_count": 9,
     "metadata": {},
     "output_type": "execute_result"
    }
   ],
   "source": [
    "len(loan_df.columns)"
   ]
  },
  {
   "cell_type": "code",
   "execution_count": 10,
   "metadata": {},
   "outputs": [
    {
     "data": {
      "text/plain": [
       "500"
      ]
     },
     "execution_count": 10,
     "metadata": {},
     "output_type": "execute_result"
    }
   ],
   "source": [
    "loan_df.count()"
   ]
  },
  {
   "cell_type": "code",
   "execution_count": 11,
   "metadata": {},
   "outputs": [
    {
     "data": {
      "text/plain": [
       "500"
      ]
     },
     "execution_count": 11,
     "metadata": {},
     "output_type": "execute_result"
    }
   ],
   "source": [
    "loan_df.distinct().count()"
   ]
  },
  {
   "cell_type": "code",
   "execution_count": 13,
   "metadata": {},
   "outputs": [
    {
     "name": "stderr",
     "output_type": "stream",
     "text": [
      "24/12/14 22:06:57 WARN SparkStringUtils: Truncated the string representation of a plan since it was too large. This behavior can be adjusted by setting 'spark.sql.debug.maxToStringFields'.\n"
     ]
    },
    {
     "name": "stdout",
     "output_type": "stream",
     "text": [
      "+-------+-----------+-----------------+------+---------------+--------------+----------------+-----------------+------------------+------------------+-------------+-----------+------------------+-----------------+-----------------+------------------+\n",
      "|summary|Customer_ID|              Age|Gender|     Occupation|Marital Status|     Family Size|           Income|       Expenditure|     Use Frequency|Loan Category|Loan Amount|           Overdue|      Debt Record|  Returned Cheque| Dishonour of Bill|\n",
      "+-------+-----------+-----------------+------+---------------+--------------+----------------+-----------------+------------------+------------------+-------------+-----------+------------------+-----------------+-----------------+------------------+\n",
      "|  count|        500|              500|   500|            500|           500|             500|              468|               481|               500|          500|        500|               500|              500|              500|               500|\n",
      "|   mean|       NULL|           40.946|  NULL|           NULL|          NULL|            4.55|68339.49145299145|27533.180873180874|              5.33|         NULL|       NULL|             4.974|46357.55223880597|             4.12|              4.31|\n",
      "| stddev|       NULL|10.19288348542722|  NULL|           NULL|          NULL|1.54280929509842|86796.49367750238|10209.599414813816|2.0487789021707443|         NULL|       NULL|2.4919356907781443|22291.17849784667|2.777233524949641|2.6160250714296875|\n",
      "|    min|    1B14093|               21|FEMALE|ACCOUNT MANAGER|       MARRIED|               2|            28366|              9000|                 2|  AGRICULTURE|  1,00,000 |                 1|                0|                0|                 0|\n",
      "|    max|    IBI4921|               60|  MALE|     TECHNICIAN|        SINGLE|               7|           930000|             62541|                 9|   TRAVELLING|    999,698|                 9|           90,000|                9|                10|\n",
      "+-------+-----------+-----------------+------+---------------+--------------+----------------+-----------------+------------------+------------------+-------------+-----------+------------------+-----------------+-----------------+------------------+\n",
      "\n"
     ]
    }
   ],
   "source": [
    "loan_df.describe().show()"
   ]
  },
  {
   "cell_type": "code",
   "execution_count": null,
   "metadata": {},
   "outputs": [
    {
     "name": "stdout",
     "output_type": "stream",
     "text": [
      "+------------------+-----+\n",
      "|     Loan Category|count|\n",
      "+------------------+-----+\n",
      "|         GOLD LOAN|   77|\n",
      "|           HOUSING|   67|\n",
      "|        AUTOMOBILE|   60|\n",
      "|        TRAVELLING|   53|\n",
      "|       RESTAURANTS|   41|\n",
      "|COMPUTER SOFTWARES|   35|\n",
      "|          SHOPPING|   35|\n",
      "|          BUSINESS|   24|\n",
      "|  EDUCATIONAL LOAN|   20|\n",
      "|        RESTAURANT|   20|\n",
      "|           DINNING|   14|\n",
      "|       ELECTRONICS|   14|\n",
      "|   HOME APPLIANCES|   14|\n",
      "|       AGRICULTURE|   12|\n",
      "|       BOOK STORES|    7|\n",
      "|          BUILDING|    7|\n",
      "+------------------+-----+\n",
      "\n"
     ]
    }
   ],
   "source": [
    "#Number of loans in each category\n",
    "loan_df.groupBy('Loan Category').count().orderBy(\"count\",ascending=False).show()"
   ]
  },
  {
   "cell_type": "code",
   "execution_count": 18,
   "metadata": {},
   "outputs": [
    {
     "data": {
      "text/plain": [
       "379"
      ]
     },
     "execution_count": 18,
     "metadata": {},
     "output_type": "execute_result"
    }
   ],
   "source": [
    "#Numbe of people who have taken loan mora than 1 lack loan\n",
    "loan_df.filter(loan_df['Loan Amount']>\"1,00,000\").count() "
   ]
  },
  {
   "cell_type": "code",
   "execution_count": 19,
   "metadata": {},
   "outputs": [
    {
     "data": {
      "text/plain": [
       "198"
      ]
     },
     "execution_count": 19,
     "metadata": {},
     "output_type": "execute_result"
    }
   ],
   "source": [
    "#People with income greater than 60000 dollars\n",
    "loan_df.filter(loan_df['Income']>60000).count()"
   ]
  },
  {
   "cell_type": "code",
   "execution_count": 22,
   "metadata": {},
   "outputs": [
    {
     "data": {
      "text/plain": [
       "137"
      ]
     },
     "execution_count": 22,
     "metadata": {},
     "output_type": "execute_result"
    }
   ],
   "source": [
    "#number of people with income less than 50000 and have 2 or more returned cheque\n",
    "loan_df.filter((loan_df[' Returned Cheque']>1) & (loan_df['Income']<50000)).count()"
   ]
  },
  {
   "cell_type": "code",
   "execution_count": 28,
   "metadata": {},
   "outputs": [
    {
     "data": {
      "text/plain": [
       "111"
      ]
     },
     "execution_count": 28,
     "metadata": {},
     "output_type": "execute_result"
    }
   ],
   "source": [
    "#number of people with 2 or more returned cheque and are single\n",
    "loan_df.filter((loan_df[' Returned Cheque']>1) & (loan_df['Marital Status']=='SINGLE')).count()"
   ]
  },
  {
   "cell_type": "code",
   "execution_count": 31,
   "metadata": {},
   "outputs": [
    {
     "name": "stdout",
     "output_type": "stream",
     "text": [
      "+-------------+-----+\n",
      "|Loan Category|count|\n",
      "+-------------+-----+\n",
      "|      HOUSING|    3|\n",
      "|   TRAVELLING|    1|\n",
      "|   AUTOMOBILE|    1|\n",
      "|      DINNING|    1|\n",
      "+-------------+-----+\n",
      "\n"
     ]
    }
   ],
   "source": [
    "#number of people with expenditure over 50000 and income more than 50000  by each category\n",
    "loan_df.filter((loan_df[\"Expenditure\"]>50000)& (loan_df['Income']>50000)).groupBy('Loan Category').count().show()"
   ]
  },
  {
   "cell_type": "markdown",
   "metadata": {},
   "source": [
    "**CREDIT CARD DATASET**"
   ]
  },
  {
   "cell_type": "code",
   "execution_count": 32,
   "metadata": {},
   "outputs": [],
   "source": [
    "credit_df=spark.read.csv(\"files/credit card.csv\",inferSchema=True,header=True)"
   ]
  },
  {
   "cell_type": "code",
   "execution_count": 33,
   "metadata": {},
   "outputs": [
    {
     "name": "stdout",
     "output_type": "stream",
     "text": [
      "root\n",
      " |-- RowNumber: integer (nullable = true)\n",
      " |-- CustomerId: integer (nullable = true)\n",
      " |-- Surname: string (nullable = true)\n",
      " |-- CreditScore: integer (nullable = true)\n",
      " |-- Geography: string (nullable = true)\n",
      " |-- Gender: string (nullable = true)\n",
      " |-- Age: integer (nullable = true)\n",
      " |-- Tenure: integer (nullable = true)\n",
      " |-- Balance: double (nullable = true)\n",
      " |-- NumOfProducts: integer (nullable = true)\n",
      " |-- IsActiveMember: integer (nullable = true)\n",
      " |-- EstimatedSalary: double (nullable = true)\n",
      " |-- Exited: integer (nullable = true)\n",
      "\n"
     ]
    }
   ],
   "source": [
    "credit_df.printSchema()"
   ]
  },
  {
   "cell_type": "code",
   "execution_count": 34,
   "metadata": {},
   "outputs": [
    {
     "name": "stdout",
     "output_type": "stream",
     "text": [
      "+---------+----------+--------+-----------+---------+------+---+------+---------+-------------+--------------+---------------+------+\n",
      "|RowNumber|CustomerId| Surname|CreditScore|Geography|Gender|Age|Tenure|  Balance|NumOfProducts|IsActiveMember|EstimatedSalary|Exited|\n",
      "+---------+----------+--------+-----------+---------+------+---+------+---------+-------------+--------------+---------------+------+\n",
      "|        1|  15634602|Hargrave|        619|   France|Female| 42|     2|      0.0|            1|             1|      101348.88|     1|\n",
      "|        2|  15647311|    Hill|        608|    Spain|Female| 41|     1| 83807.86|            1|             1|      112542.58|     0|\n",
      "|        3|  15619304|    Onio|        502|   France|Female| 42|     8| 159660.8|            3|             0|      113931.57|     1|\n",
      "|        4|  15701354|    Boni|        699|   France|Female| 39|     1|      0.0|            2|             0|       93826.63|     0|\n",
      "|        5|  15737888|Mitchell|        850|    Spain|Female| 43|     2|125510.82|            1|             1|        79084.1|     0|\n",
      "+---------+----------+--------+-----------+---------+------+---+------+---------+-------------+--------------+---------------+------+\n",
      "only showing top 5 rows\n",
      "\n"
     ]
    }
   ],
   "source": [
    "credit_df.show(5)"
   ]
  },
  {
   "cell_type": "code",
   "execution_count": 36,
   "metadata": {},
   "outputs": [
    {
     "data": {
      "text/plain": [
       "13"
      ]
     },
     "execution_count": 36,
     "metadata": {},
     "output_type": "execute_result"
    }
   ],
   "source": [
    "len(credit_df.columns)"
   ]
  },
  {
   "cell_type": "code",
   "execution_count": 38,
   "metadata": {},
   "outputs": [
    {
     "data": {
      "text/plain": [
       "10000"
      ]
     },
     "execution_count": 38,
     "metadata": {},
     "output_type": "execute_result"
    }
   ],
   "source": [
    "credit_df.count()"
   ]
  },
  {
   "cell_type": "code",
   "execution_count": 39,
   "metadata": {},
   "outputs": [
    {
     "data": {
      "text/plain": [
       "3116"
      ]
     },
     "execution_count": 39,
     "metadata": {},
     "output_type": "execute_result"
    }
   ],
   "source": [
    "#number of members eligible for a credit card\n",
    "credit_df.filter(credit_df['CreditScore']>700).count()"
   ]
  },
  {
   "cell_type": "code",
   "execution_count": 43,
   "metadata": {},
   "outputs": [
    {
     "name": "stdout",
     "output_type": "stream",
     "text": [
      "+---------+-----+\n",
      "|Geography|count|\n",
      "+---------+-----+\n",
      "|  Germany|  397|\n",
      "|   France|  834|\n",
      "|    Spain|  406|\n",
      "+---------+-----+\n",
      "\n"
     ]
    }
   ],
   "source": [
    "#number of members who are eligible for a credit card and are active by geography\n",
    "credit_df.filter((credit_df['CreditScore']>700) & (credit_df['IsActiveMember']==1)).groupBy('Geography').count().show()"
   ]
  },
  {
   "cell_type": "code",
   "execution_count": 46,
   "metadata": {},
   "outputs": [
    {
     "data": {
      "text/plain": [
       "1668"
      ]
     },
     "execution_count": 46,
     "metadata": {},
     "output_type": "execute_result"
    }
   ],
   "source": [
    "#credit card users in Spain and are (active or credit score >700)\n",
    "credit_df.filter((credit_df['Geography']=='Spain')& ((credit_df['IsActiveMember']==1) | (credit_df['CreditScore']>700))).count()\n"
   ]
  },
  {
   "cell_type": "code",
   "execution_count": 47,
   "metadata": {},
   "outputs": [
    {
     "data": {
      "text/plain": [
       "2477"
      ]
     },
     "execution_count": 47,
     "metadata": {},
     "output_type": "execute_result"
    }
   ],
   "source": [
    "credit_df.filter(credit_df['Geography']==\"Spain\").count()"
   ]
  },
  {
   "cell_type": "code",
   "execution_count": 50,
   "metadata": {},
   "outputs": [
    {
     "data": {
      "text/plain": [
       "1044"
      ]
     },
     "execution_count": 50,
     "metadata": {},
     "output_type": "execute_result"
    }
   ],
   "source": [
    "credit_df.filter((credit_df[\"EstimatedSalary\"]>100000) & (credit_df['Exited']==1)).count()"
   ]
  },
  {
   "cell_type": "markdown",
   "metadata": {},
   "source": [
    "**Transaction Dataset**"
   ]
  },
  {
   "cell_type": "code",
   "execution_count": 3,
   "metadata": {},
   "outputs": [
    {
     "name": "stderr",
     "output_type": "stream",
     "text": [
      "                                                                                \r"
     ]
    }
   ],
   "source": [
    "txn_df=spark.read.csv(\"files/txn.csv\",inferSchema=True,header=True)"
   ]
  },
  {
   "cell_type": "code",
   "execution_count": 4,
   "metadata": {},
   "outputs": [
    {
     "name": "stdout",
     "output_type": "stream",
     "text": [
      "root\n",
      " |-- Account No: string (nullable = true)\n",
      " |-- TRANSACTION DETAILS: string (nullable = true)\n",
      " |-- VALUE DATE: string (nullable = true)\n",
      " |--  WITHDRAWAL AMT : double (nullable = true)\n",
      " |--  DEPOSIT AMT : double (nullable = true)\n",
      " |-- BALANCE AMT: double (nullable = true)\n",
      "\n"
     ]
    }
   ],
   "source": [
    "txn_df.printSchema()"
   ]
  },
  {
   "cell_type": "code",
   "execution_count": 5,
   "metadata": {},
   "outputs": [
    {
     "name": "stdout",
     "output_type": "stream",
     "text": [
      "+-------------+-----+\n",
      "|   Account No|count|\n",
      "+-------------+-----+\n",
      "|     1196428'|48779|\n",
      "|409000362497'|29840|\n",
      "|409000438620'|13454|\n",
      "|     1196711'|10536|\n",
      "|409000493210'| 6014|\n",
      "|409000438611'| 4588|\n",
      "|409000611074'| 1093|\n",
      "|409000493201'| 1044|\n",
      "|409000425051'|  802|\n",
      "|409000405747'|   51|\n",
      "+-------------+-----+\n",
      "\n"
     ]
    }
   ],
   "source": [
    "#Count of transaction on every account\n",
    "txn_df.groupBy('Account No').count().orderBy(\"count\",ascending=False).show()"
   ]
  },
  {
   "cell_type": "code",
   "execution_count": 9,
   "metadata": {},
   "outputs": [
    {
     "name": "stdout",
     "output_type": "stream",
     "text": [
      "+-------------+---------------------+\n",
      "|   Account No|max( Withdrawal AMT )|\n",
      "+-------------+---------------------+\n",
      "|     1196711'|        4.594475464E8|\n",
      "|409000438620'|                4.0E8|\n",
      "|409000425051'|               3.54E8|\n",
      "|409000438611'|                2.4E8|\n",
      "|409000405747'|                1.7E8|\n",
      "|     1196428'|                1.5E8|\n",
      "|409000362497'|        1.413662392E8|\n",
      "|409000493210'|                1.5E7|\n",
      "|409000493201'|            2500000.0|\n",
      "|409000611074'|             912000.0|\n",
      "+-------------+---------------------+\n",
      "\n"
     ]
    }
   ],
   "source": [
    "#Maximum withdrawal Amount\n",
    "txn_df.groupBy(\"Account No\").max(' Withdrawal AMT ').orderBy(\"max( Withdrawal AMT )\", ascending=False).show()"
   ]
  },
  {
   "cell_type": "code",
   "execution_count": 11,
   "metadata": {},
   "outputs": [
    {
     "name": "stdout",
     "output_type": "stream",
     "text": [
      "+-------------+---------------------+\n",
      "|   Account No|min( Withdrawal AMT )|\n",
      "+-------------+---------------------+\n",
      "|409000611074'|                120.0|\n",
      "|409000405747'|                 21.0|\n",
      "|409000493201'|                  2.1|\n",
      "|409000425051'|                 1.25|\n",
      "|409000362497'|                 0.97|\n",
      "|409000438620'|                 0.34|\n",
      "|     1196711'|                 0.25|\n",
      "|     1196428'|                 0.25|\n",
      "|409000438611'|                  0.2|\n",
      "|409000493210'|                 0.01|\n",
      "+-------------+---------------------+\n",
      "\n"
     ]
    }
   ],
   "source": [
    "#Minimum withdrawal amount of an account\n",
    "txn_df.groupBy('Account No').min(' Withdrawal AMT ').orderBy(\"min( Withdrawal AMT )\", ascending=False).show()"
   ]
  },
  {
   "cell_type": "code",
   "execution_count": 13,
   "metadata": {},
   "outputs": [
    {
     "name": "stdout",
     "output_type": "stream",
     "text": [
      "+-------------+------------------+\n",
      "|   Account No|max( Deposit AMT )|\n",
      "+-------------+------------------+\n",
      "|409000438620'|           5.448E8|\n",
      "|     1196711'|             5.0E8|\n",
      "|     1196428'|     2.119594422E8|\n",
      "|409000405747'|           2.021E8|\n",
      "|409000362497'|             2.0E8|\n",
      "|409000438611'|          1.7025E8|\n",
      "|409000493210'|             1.5E7|\n",
      "|409000425051'|             1.5E7|\n",
      "|409000611074'|         3000000.0|\n",
      "|409000493201'|         1000000.0|\n",
      "+-------------+------------------+\n",
      "\n"
     ]
    }
   ],
   "source": [
    "#Maximum deposit of an account\n",
    "txn_df.groupBy('Account No').max(' Deposit AMT ').orderBy(\"max( Deposit AMT )\", ascending=False).show()"
   ]
  },
  {
   "cell_type": "code",
   "execution_count": 15,
   "metadata": {},
   "outputs": [
    {
     "name": "stdout",
     "output_type": "stream",
     "text": [
      "+-------------+------------------+\n",
      "|   Account No|min( Deposit AMT )|\n",
      "+-------------+------------------+\n",
      "|409000611074'|            1320.0|\n",
      "|409000405747'|             500.0|\n",
      "|     1196711'|              1.01|\n",
      "|     1196428'|               1.0|\n",
      "|409000425051'|               1.0|\n",
      "|409000493201'|               0.9|\n",
      "|409000438620'|              0.07|\n",
      "|409000438611'|              0.03|\n",
      "|409000362497'|              0.03|\n",
      "|409000493210'|              0.01|\n",
      "+-------------+------------------+\n",
      "\n"
     ]
    }
   ],
   "source": [
    "#Minimum deposit ammount of an account\n",
    "txn_df.groupBy('Account No').min(' Deposit AMT ').orderBy(\"min( Deposit AMT )\",ascending=False).show()"
   ]
  },
  {
   "cell_type": "code",
   "execution_count": 17,
   "metadata": {},
   "outputs": [
    {
     "name": "stdout",
     "output_type": "stream",
     "text": [
      "+-------------+--------------------+\n",
      "|   Account No|    sum(Balance AMT)|\n",
      "+-------------+--------------------+\n",
      "|409000438611'|-2.49486577068339...|\n",
      "|     1196711'|-1.60476498101275E13|\n",
      "|     1196428'| -8.1418498130721E13|\n",
      "|409000493210'|-3.27584952132095...|\n",
      "|409000611074'|       1.615533622E9|\n",
      "|409000425051'|-3.77211841164998...|\n",
      "|409000405747'|-2.43108047067000...|\n",
      "|409000493201'|1.0420831829499985E9|\n",
      "|409000438620'|-7.12291867951358...|\n",
      "|409000362497'| -5.2860004792808E13|\n",
      "+-------------+--------------------+\n",
      "\n"
     ]
    }
   ],
   "source": [
    "#sum of balance in every bank account\n",
    "txn_df.groupBy('Account No').sum('Balance AMT').show()"
   ]
  },
  {
   "cell_type": "code",
   "execution_count": 18,
   "metadata": {},
   "outputs": [
    {
     "name": "stdout",
     "output_type": "stream",
     "text": [
      "+----------+-----+\n",
      "|Value Date|count|\n",
      "+----------+-----+\n",
      "| 27-Jul-17|  567|\n",
      "| 13-Aug-18|  463|\n",
      "|  8-Nov-17|  402|\n",
      "|  7-Oct-17|  382|\n",
      "| 10-Jul-18|  374|\n",
      "| 12-Dec-17|  367|\n",
      "| 12-Sep-18|  365|\n",
      "|  9-Aug-18|  360|\n",
      "| 19-Sep-17|  358|\n",
      "| 16-Mar-17|  353|\n",
      "| 10-Sep-18|  344|\n",
      "| 14-Jul-17|  333|\n",
      "|  7-Mar-18|  319|\n",
      "| 11-Oct-18|  303|\n",
      "| 22-Aug-17|  301|\n",
      "|  9-Jan-18|  299|\n",
      "|  9-Oct-18|  297|\n",
      "| 20-Apr-18|  296|\n",
      "|  9-Jul-18|  292|\n",
      "|  7-Apr-18|  291|\n",
      "+----------+-----+\n",
      "only showing top 20 rows\n",
      "\n"
     ]
    }
   ],
   "source": [
    "#Number of transaction on each date\n",
    "txn_df.groupBy('Value Date').count().orderBy('count',ascending=False).show()"
   ]
  },
  {
   "cell_type": "code",
   "execution_count": 19,
   "metadata": {},
   "outputs": [
    {
     "name": "stdout",
     "output_type": "stream",
     "text": [
      "+-------------+--------------------+----------------+\n",
      "|   Account No| TRANSACTION DETAILS| WITHDRAWAL AMT |\n",
      "+-------------+--------------------+----------------+\n",
      "|409000611074'|INDO GIBL Indiafo...|        133900.0|\n",
      "|409000611074'|INDO GIBL Indiafo...|        195800.0|\n",
      "|409000611074'|INDO GIBL Indiafo...|        143800.0|\n",
      "|409000611074'|INDO GIBL Indiafo...|        331650.0|\n",
      "|409000611074'|INDO GIBL Indiafo...|        129000.0|\n",
      "|409000611074'|INDO GIBL Indiafo...|        230013.0|\n",
      "|409000611074'|INDO GIBL Indiafo...|        367900.0|\n",
      "|409000611074'|INDO GIBL Indiafo...|        108000.0|\n",
      "|409000611074'|INDO GIBL Indiafo...|        141000.0|\n",
      "|409000611074'|INDO GIBL Indiafo...|        206000.0|\n",
      "|409000611074'|INDO GIBL Indiafo...|        242300.0|\n",
      "|409000611074'|INDO GIBL Indiafo...|        113250.0|\n",
      "|409000611074'|INDO GIBL Indiafo...|        206900.0|\n",
      "|409000611074'|INDO GIBL Indiafo...|        276000.0|\n",
      "|409000611074'|INDO GIBL Indiafo...|        171000.0|\n",
      "|409000611074'|INDO GIBL Indiafo...|        189800.0|\n",
      "|409000611074'|INDO GIBL Indiafo...|        271323.0|\n",
      "|409000611074'|INDO GIBL Indiafo...|        200600.0|\n",
      "|409000611074'|INDO GIBL Indiafo...|        176900.0|\n",
      "|409000611074'|INDO GIBL Indiafo...|        150050.0|\n",
      "+-------------+--------------------+----------------+\n",
      "only showing top 20 rows\n",
      "\n"
     ]
    }
   ],
   "source": [
    "#list of customers with withdrawal amount more than 100000\n",
    "txn_df.select(\"Account No\", \"TRANSACTION DETAILS\",\" WITHDRAWAL AMT \").filter(txn_df[' WITHDRAWAL AMT ']>100000).show()"
   ]
  }
 ],
 "metadata": {
  "kernelspec": {
   "display_name": "venv",
   "language": "python",
   "name": "python3"
  },
  "language_info": {
   "codemirror_mode": {
    "name": "ipython",
    "version": 3
   },
   "file_extension": ".py",
   "mimetype": "text/x-python",
   "name": "python",
   "nbconvert_exporter": "python",
   "pygments_lexer": "ipython3",
   "version": "3.12.3"
  }
 },
 "nbformat": 4,
 "nbformat_minor": 2
}
